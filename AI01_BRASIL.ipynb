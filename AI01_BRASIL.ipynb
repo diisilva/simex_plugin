{
  "nbformat": 4,
  "nbformat_minor": 0,
  "metadata": {
    "kernelspec": {
      "display_name": "Python 3",
      "language": "python",
      "name": "python3"
    },
    "language_info": {
      "codemirror_mode": {
        "name": "ipython",
        "version": 3
      },
      "file_extension": ".py",
      "mimetype": "text/x-python",
      "name": "python",
      "nbconvert_exporter": "python",
      "pygments_lexer": "ipython3",
      "version": "3.5.2"
    },
    "colab": {
      "name": "AI01_BRASIL",
      "provenance": [],
      "collapsed_sections": [],
      "toc_visible": true,
      "include_colab_link": true
    }
  },
  "cells": [
    {
      "cell_type": "markdown",
      "metadata": {
        "id": "view-in-github",
        "colab_type": "text"
      },
      "source": [
        "<a href=\"https://colab.research.google.com/github/diisilva/simex_plugin/blob/main/AI01_BRASIL.ipynb\" target=\"_parent\"><img src=\"https://colab.research.google.com/assets/colab-badge.svg\" alt=\"Open In Colab\"/></a>"
      ]
    },
    {
      "cell_type": "markdown",
      "metadata": {
        "id": "p2DBAcNScpIY"
      },
      "source": [
        "# **Pré-processamento das imagens Landsat**\n",
        "Lista de imagens Landsat filtradas L1T SR no Earth Engine.\n"
      ]
    },
    {
      "cell_type": "markdown",
      "metadata": {
        "id": "lkwmlgj6qKKZ"
      },
      "source": [
        "##Importação de Bilbiotecas\n"
      ]
    },
    {
      "cell_type": "code",
      "metadata": {
        "id": "S1t9afKScrow"
      },
      "source": [
        "# Importar biblioteca Google Earth Engine (GEE)\n",
        "import ee\n",
        "# Importa biblioteca Pandas\n",
        "import pandas as pd"
      ],
      "execution_count": null,
      "outputs": []
    },
    {
      "cell_type": "markdown",
      "metadata": {
        "id": "6ZUE0mTLqITe"
      },
      "source": [
        "##Autenticações"
      ]
    },
    {
      "cell_type": "code",
      "metadata": {
        "colab": {
          "base_uri": "https://localhost:8080/"
        },
        "id": "QaELRg04dVBi",
        "outputId": "9e9ddf88-f1ef-49c7-c65f-23cb7d71b38e"
      },
      "source": [
        "# Autenticação GEE - necessário ter uma conta no code editor\n",
        "!earthengine authenticate"
      ],
      "execution_count": null,
      "outputs": [
        {
          "output_type": "stream",
          "text": [
            "WARNING:tensorflow:From /usr/local/lib/python3.7/dist-packages/tensorflow/python/compat/v2_compat.py:96: disable_resource_variables (from tensorflow.python.ops.variable_scope) is deprecated and will be removed in a future version.\n",
            "Instructions for updating:\n",
            "non-resource variables are not supported in the long term\n",
            "To authorize access needed by Earth Engine, open the following URL in a web browser and follow the instructions. If the web browser does not start automatically, please manually browse the URL below.\n",
            "\n",
            "    https://accounts.google.com/o/oauth2/auth?client_id=517222506229-vsmmajv00ul0bs7p89v5m89qs8eb9359.apps.googleusercontent.com&scope=https%3A%2F%2Fwww.googleapis.com%2Fauth%2Fearthengine+https%3A%2F%2Fwww.googleapis.com%2Fauth%2Fdevstorage.full_control&redirect_uri=urn%3Aietf%3Awg%3Aoauth%3A2.0%3Aoob&response_type=code&code_challenge=Gr-pvO20WKuyMWdFgfQvvIeu47z2aLyoxl4m1mit53g&code_challenge_method=S256\n",
            "\n",
            "The authorization workflow will generate a code, which you should paste in the box below. \n",
            "Enter verification code: 4/1AY0e-g6Vs5ZBwPj_S5khKtIu7wXMgPml7OplQ3AmI69RnEYS21Tx7WSPPbo\n",
            "\n",
            "Successfully saved authorization token.\n"
          ],
          "name": "stdout"
        }
      ]
    },
    {
      "cell_type": "code",
      "metadata": {
        "colab": {
          "base_uri": "https://localhost:8080/"
        },
        "id": "4TnlZgJ_ijps",
        "outputId": "0d243c3f-18ca-44c1-8da7-408b770a4918"
      },
      "source": [
        "# Autenticação Google Drive \n",
        "from google.colab import drive\n",
        "drive.mount('/content/drive')"
      ],
      "execution_count": null,
      "outputs": [
        {
          "output_type": "stream",
          "text": [
            "Mounted at /content/drive\n"
          ],
          "name": "stdout"
        }
      ]
    },
    {
      "cell_type": "code",
      "metadata": {
        "id": "ksVn521aegjO"
      },
      "source": [
        "# Inicializar biblioteca do GEE\n",
        "ee.Initialize()"
      ],
      "execution_count": null,
      "outputs": []
    },
    {
      "cell_type": "markdown",
      "metadata": {
        "id": "D-Uw19W5rxT3"
      },
      "source": [
        "# Funções de processamento"
      ]
    },
    {
      "cell_type": "code",
      "metadata": {
        "collapsed": true,
        "deletable": true,
        "editable": true,
        "id": "SmcDC6G3cOgi"
      },
      "source": [
        " # Normalizar propriedades de satélites Landsat 5, 7 e 8 \n",
        " def setProperties(image):\n",
        "      \n",
        "            cloudCover = ee.Algorithms.If(image.get('CLOUD_COVER'),\\\n",
        "                    image.get('CLOUD_COVER'),\\\n",
        "                    image.get('CLOUDY_PIXEL_PERCENTAGE'))\n",
        "                \n",
        "            date = ee.Algorithms.If(image.get('DATE_ACQUIRED'),image.get('DATE_ACQUIRED'),ee.Algorithms.If(image.get('SENSING_TIME'),image.get('SENSING_TIME'),image.get('GENERATION_TIME')))\n",
        "            \n",
        "            satellite = ee.Algorithms.If(image.get('SPACECRAFT_ID'),\\\n",
        "                    image.get('SPACECRAFT_ID'),\\\n",
        "                    ee.Algorithms.If(image.get('SATELLITE'),\\\n",
        "                        image.get('SATELLITE'),\\\n",
        "                        image.get('SPACECRAFT_NAME')\\\n",
        "                    )\\\n",
        "                )\n",
        "            \n",
        "            azimuth = ee.Algorithms.If(image.get('SUN_AZIMUTH'),\\\n",
        "                    image.get('SUN_AZIMUTH'),\\\n",
        "                    ee.Algorithms.If(image.get('SOLAR_AZIMUTH_\\ANGLE'),\\\n",
        "                        image.get('SOLAR_AZIMUTH_ANGLE'),\n",
        "                        image.get('MEAN_SOLAR_AZIMUTH_ANGLE')\\\n",
        "                    )\\\n",
        "                )\n",
        "            \n",
        "            elevation = ee.Algorithms.If(image.get('SUN_ELEVATION'),\\\n",
        "                    image.get('SUN_ELEVATION'),\\\n",
        "                    ee.Algorithms.If(image.get('SOLAR_ZENITH_ANGLE'),\\\n",
        "                        ee.Number(90).subtract(image.get('SOLAR_ZENITH_ANGLE')),\\\n",
        "                        ee.Number(90).subtract(image.get('MEAN_SOLAR_ZENITH_ANGLE'))\\\n",
        "                    )\\\n",
        "                )\n",
        "            \n",
        "            reflectance = ee.Algorithms.If(\n",
        "                    ee.String(ee.Dictionary(ee.Algorithms.Describe(image)).get('id')).match('SR').length(),\\\n",
        "                    'SR',\\\n",
        "                    'TOA'\\\n",
        "                )\n",
        "            \n",
        "            return image\\\n",
        "                    .set('cloud_cover', cloudCover)\\\n",
        "                    .set('satellite_name', satellite)\\\n",
        "                    .set('sun_azimuth_angle', azimuth)\\\n",
        "                    .set('sun_elevation_angle', elevation)\\\n",
        "                    .set('reflectance', reflectance)\\\n",
        "                    .set('date', ee.Date(date).format('Y-MM-dd'))"
      ],
      "execution_count": null,
      "outputs": []
    },
    {
      "cell_type": "code",
      "metadata": {
        "collapsed": true,
        "deletable": true,
        "editable": true,
        "id": "MmUnaawccOgi"
      },
      "source": [
        "# obter coleção de imagens Landsat 5, 7 e 8\n",
        "def getCollection(obj):\n",
        "    \n",
        "            collection = ee.ImageCollection(obj['collectionid']).filterBounds(obj['geometry']).filterDate(ee.Date(obj['dateStart']),ee.Date(obj['dateEnd'])).map(setProperties)\n",
        "      \n",
        "            collection = collection.filterMetadata('cloud_cover','less_than',obj['cloud_cover'])\n",
        "\n",
        "            return collection"
      ],
      "execution_count": null,
      "outputs": []
    },
    {
      "cell_type": "code",
      "metadata": {
        "collapsed": true,
        "deletable": true,
        "editable": true,
        "id": "a_kpBwktcOgj"
      },
      "source": [
        "# normalizar nomes da bandas de satélites Landsat 5, 7 e 8\n",
        "def bandNames(key):\n",
        "    \n",
        "            bandNames = {'sentinel2' : {\n",
        "                'bandNames': ['B2','B3','B4','B8','B10','B11','B12','QA60'],\n",
        "                'newNames': ['blue','green','red','nir','cirrus','swir1','swir2','QA60'] },\n",
        "                        'sentinel2_SR' : {\n",
        "                  'bandNames': ['B2','B3','B4','B8','B11','B12','QA60'],\n",
        "                  'newNames': ['blue','green','red','nir','swir1','swir2','QA60']\n",
        "                }, 'l5': {\n",
        "      'bandNames': ['B1', 'B2', 'B3', 'B4', 'B5', 'B7', 'pixel_qa', 'B6'],\n",
        "      'newNames': ['blue', 'green', 'red', 'nir', 'swir1', 'swir2', 'pixel_qa', 'temp']\n",
        "  },\n",
        "  \n",
        " 'l7': {\n",
        "      'bandNames': ['B1', 'B2', 'B3', 'B4', 'B5', 'B7', 'pixel_qa', 'B6'],\n",
        "      'newNames': ['blue', 'green', 'red', 'nir', 'swir1', 'swir2', 'pixel_qa', 'temp']\n",
        "  },\n",
        "\n",
        "  'l8' : {\n",
        "      'bandNames': ['B2', 'B3', 'B4', 'B5', 'B6', 'B7', 'B10', 'pixel_qa', 'B11'],\n",
        "      'newNames': ['blue', 'green', 'red', 'nir', 'swir1', 'swir2', 'thermal', 'pixel_qa', 'temp']\n",
        "  }}\n",
        "        \n",
        "            return bandNames[key]"
      ],
      "execution_count": null,
      "outputs": []
    },
    {
      "cell_type": "code",
      "metadata": {
        "deletable": true,
        "editable": true,
        "id": "CgSPaBsXcOgj"
      },
      "source": [
        "# Exportação de CSV para o google drive\n",
        "def exportTabletoDrive(featureCollection, description,tableName):\n",
        "  task = ee.batch.Export.table.toDrive(\n",
        "    collection = featureCollection,\n",
        "    description = tableName,\n",
        "    fileNamePrefix = tableName,\n",
        "    fileFormat = 'CSV',\n",
        "  )\n",
        "  task.start()   "
      ],
      "execution_count": null,
      "outputs": []
    },
    {
      "cell_type": "markdown",
      "metadata": {
        "id": "JZCEf4xOsSBx"
      },
      "source": [
        "# Paramêtros de entrada"
      ]
    },
    {
      "cell_type": "code",
      "metadata": {
        "collapsed": true,
        "deletable": true,
        "editable": true,
        "id": "6KCYSVFIcOgk"
      },
      "source": [
        "# Parametros de entrada\n",
        "area = 1\n",
        "name = 'AI0' + str(area) + '_BRASIL'\n",
        "dataInicial = '1985-01-01'\n",
        "dataFinal = '2021-01-01'\n",
        "coberturaNuvem = 50\n",
        "assetAreas = ee.FeatureCollection('users/diimanut/ITV/ALL_GRIDS_VALE')"
      ],
      "execution_count": null,
      "outputs": []
    },
    {
      "cell_type": "markdown",
      "metadata": {
        "id": "6IVzuMkrr6O0"
      },
      "source": [
        "# Processamento"
      ]
    },
    {
      "cell_type": "code",
      "metadata": {
        "deletable": true,
        "editable": true,
        "id": "FNnBjf-LcOgk"
      },
      "source": [
        "#filtro de geometria para a área de entrada setada nas Opções de área\n",
        "geometria = assetAreas.filterMetadata('AI','equals',area)\n",
        "#Gerando coleção Landsat 8\n",
        "parametrosColecaoL8 = {\n",
        "    'collectionid': 'LANDSAT/LC08/C01/T1_SR',\n",
        "    'geometry': geometria,\n",
        "    'dateStart': ee.Date('2013-04-11'),\n",
        "    'dateEnd': ee.Date(dataFinal),\n",
        "    'cloud_cover': coberturaNuvem,\n",
        "}\n",
        "colecaoL8 = getCollection(parametrosColecaoL8).select(bandNames(\"l8\")['bandNames'],bandNames(\"l8\")['newNames'])\n",
        "#Gerando coleção Landsat 7\n",
        "parametrosColecaoL7 = {\n",
        "    'collectionid': 'LANDSAT/LE07/C01/T1_SR',\n",
        "    'geometry': geometria,\n",
        "    'dateStart': ee.Date('1999-01-01'),\n",
        "    'dateEnd': ee.Date('2013-04-11'),\n",
        "    'cloud_cover': coberturaNuvem,\n",
        "}\n",
        "colecaoL7 = getCollection(parametrosColecaoL7).select(bandNames(\"l7\")['bandNames'],bandNames(\"l7\")['newNames'])\n",
        "#Gerando coleção Landsat 5\n",
        "parametrosColecaoL5 = {\n",
        "    'collectionid': 'LANDSAT/LT05/C01/T1_SR',\n",
        "    'geometry': geometria,\n",
        "    'dateStart': ee.Date('1985-01-01'),\n",
        "    'dateEnd': ee.Date('2013-04-11'),\n",
        "    'cloud_cover': coberturaNuvem,\n",
        "}\n",
        "\n",
        "colecaoL5 = getCollection(parametrosColecaoL5).select(bandNames(\"l5\")['bandNames'],bandNames(\"l5\")['newNames'])\n",
        "#Após normalizar os nomes dos metadados e renomear as bandas,\n",
        "#junta-se as coleções Landsat 5,7 e 8 numa coleção total\n",
        "colTotal = colecaoL5.merge(colecaoL7).merge(colecaoL8)\n",
        "\n",
        "geometria = assetAreas.filterMetadata('AI','equals',area)\n",
        "parametrosColecaoL8 = {\n",
        "    'collectionid': 'LANDSAT/LC08/C01/T1_SR',\n",
        "    'geometry': geometria,\n",
        "    'dateStart': ee.Date('2013-04-11'),\n",
        "    'dateEnd': ee.Date(dataFinal),\n",
        "    'cloud_cover': coberturaNuvem,\n",
        "}\n",
        "colecaoL8 = getCollection(parametrosColecaoL8).select(bandNames(\"l8\")['bandNames'],bandNames(\"l8\")['newNames'])\n",
        "#print('colecaoL8 size\\n',colecaoL8.size().getInfo())\n",
        "\n",
        "parametrosColecaoL7 = {\n",
        "    'collectionid': 'LANDSAT/LE07/C01/T1_SR',\n",
        "    'geometry': geometria,\n",
        "    'dateStart': ee.Date('1999-01-01'),\n",
        "    'dateEnd': ee.Date('2013-04-11'),\n",
        "    'cloud_cover': coberturaNuvem,\n",
        "}\n",
        "colecaoL7 = getCollection(parametrosColecaoL7).select(bandNames(\"l7\")['bandNames'],bandNames(\"l7\")['newNames'])\n",
        "#print('colecaoL7 size\\n',colecaoL7.size().getInfo())\n",
        "\n",
        "parametrosColecaoL5 = {\n",
        "    'collectionid': 'LANDSAT/LT05/C01/T1_SR',\n",
        "    'geometry': geometria,\n",
        "    'dateStart': ee.Date('1985-01-01'),\n",
        "    'dateEnd': ee.Date('2013-04-11'),\n",
        "    'cloud_cover': coberturaNuvem,\n",
        "}\n",
        "\n",
        "colecaoL5 = getCollection(parametrosColecaoL5).select(bandNames(\"l5\")['bandNames'],bandNames(\"l5\")['newNames'])\n",
        "#print('colecaoL5 size\\n',colecaoL5.size().getInfo())\n",
        "\n",
        "colTotal = colecaoL5.merge(colecaoL7).merge(colecaoL8)\n"
      ],
      "execution_count": null,
      "outputs": []
    },
    {
      "cell_type": "code",
      "metadata": {
        "id": "Yo5ozn0i5t4V"
      },
      "source": [
        "featureCollection = colTotal.map(lambda img: ee.Feature(None,ee.Dictionary({\n",
        "            'satellite_name':img.get('satellite_name'),\n",
        "            'WRS_ROW':img.get('WRS_ROW'),\n",
        "            'WRS_PATH':img.get('WRS_PATH'),\n",
        "            'LANDSAT_ID':img.get('LANDSAT_ID'),\n",
        "            'date':img.get('date'),\n",
        "            'cloud_cover':img.get('cloud_cover'),\n",
        "            'reflectance':img.get('reflectance'),\n",
        "            'mosaic': geometria.first().get('Mosaico'),\n",
        "             'country': geometria.first().get('Pais'),\n",
        "             'day_of_year':img.date().getRelative('day', 'year')\n",
        "        })))\n"
      ],
      "execution_count": null,
      "outputs": []
    },
    {
      "cell_type": "code",
      "metadata": {
        "id": "O81O0dsW6D68"
      },
      "source": [
        "#Exportação do CSV\n",
        "exportTabletoDrive(featureCollection, name,name)"
      ],
      "execution_count": null,
      "outputs": []
    }
  ]
}